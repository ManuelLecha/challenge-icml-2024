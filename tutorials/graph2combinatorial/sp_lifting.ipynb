{
 "cells": [
  {
   "cell_type": "markdown",
   "metadata": {},
   "source": [
    "# TO DO:\n",
    "\n",
    "1. Dataset Loading\n",
    "Implements the pipeline to load a dataset from the src domain. Since the challenge repository doesn’t allow storing large files, loaders must download datasets from external sources into the datasets/ folder.\n",
    "This pipeline is provided for several graph-based datasets. For any other src domain, participants are allowed to transform graph datasets into the corresponding domain through our provided lifting mappings –or just dropping their connectivity to get point-clouds.\n",
    "(Bonus) Designing a loader for a new dataset (ones that are not already provided in the tutorials) will be positively taken into consideration in the final evaluation.\n",
    "\n",
    "2. Pre-processing the Dataset\n",
    "Applies the lifting transform to the dataset.\n",
    "Needs to be done through the PreProcessor, which we provide in\n",
    "modules/io/preprocess/preprocessor.py.\n",
    "\n",
    "3. Running a Model over the Lifted Dataset \n",
    "Creates a Neural Network model that operates over the dst domain, leveraging TopoModelX for higher order topologies or torch_geometric for graphs.\n",
    "Runs the model on the lifted dataset."
   ]
  }
 ],
 "metadata": {
  "language_info": {
   "name": "python"
  }
 },
 "nbformat": 4,
 "nbformat_minor": 2
}
